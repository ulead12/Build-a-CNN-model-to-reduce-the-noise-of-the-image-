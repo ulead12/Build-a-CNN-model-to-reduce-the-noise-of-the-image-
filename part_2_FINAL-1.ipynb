{
  "nbformat": 4,
  "nbformat_minor": 0,
  "metadata": {
    "colab": {
      "name": "project_2_f.ipynb",
      "provenance": [],
      "collapsed_sections": []
    },
    "kernelspec": {
      "name": "python3",
      "display_name": "Python 3"
    },
    "language_info": {
      "name": "python"
    },
    "accelerator": "GPU"
  },
  "cells": [
    {
      "cell_type": "markdown",
      "metadata": {
        "id": "zljpCCZqosOv"
      },
      "source": [
        "# Project 2. Classification Network\n",
        "\n",
        "As a preparation stage for project 3, you're going to go through the complete process of training a classification network.\n",
        "\n",
        "**Note: In this project, you can refer to other open source projects, but you can't directly borrow their code, including the built-in model zoo in pytorch. Also, a lot of the relevant content has been reviewed in Tutorial 5, please go through it again if necessary.**"
      ]
    },
    {
      "cell_type": "markdown",
      "metadata": {
        "id": "n45-7ODTpjMD"
      },
      "source": [
        "## Dataset\n",
        "\n",
        "We're going to use the CIFAR10 dataset for this project."
      ]
    },
    {
      "cell_type": "code",
      "metadata": {
        "colab": {
          "base_uri": "https://localhost:8080/"
        },
        "id": "IS_j9tffToKr",
        "outputId": "abcef892-a1cf-44cd-f423-06942206bd57"
      },
      "source": [
        "import torch\n",
        "import torch.nn as nn\n",
        "import torch.optim as optim\n",
        "import torchvision\n",
        "from torch.utils.data import DataLoader\n",
        "import numpy as np\n",
        "\n",
        "\n",
        "cifar10_train = torchvision.datasets.CIFAR10(\"CIFAR10\", train=True, transform=lambda x: np.array(x, dtype=np.float32).transpose(2,0,1),\n",
        "                                         target_transform=None, download=True)\n",
        "cifar10_test = torchvision.datasets.CIFAR10(\"CIFAR10\", train=False, transform=lambda x: np.array(x, dtype=np.float32).transpose(2,0,1),\n",
        "                                         target_transform=None, download=True)\n"
      ],
      "execution_count": 30,
      "outputs": [
        {
          "output_type": "stream",
          "name": "stdout",
          "text": [
            "Files already downloaded and verified\n",
            "Files already downloaded and verified\n"
          ]
        }
      ]
    },
    {
      "cell_type": "markdown",
      "metadata": {
        "id": "fVknzO_d0O1q"
      },
      "source": [
        "## Model\n",
        "Just like the previous project, you need to define your own model structure here."
      ]
    },
    {
      "cell_type": "code",
      "source": [
        "cifar10_train_cuda = [[torch.tensor(item[0]).cuda(), torch.tensor(item[1]).cuda()]for item in cifar10_train]\n",
        "cifar10_test_cuda = [[torch.tensor(item[0]).cuda(), torch.tensor(item[1]).cuda()]for item in cifar10_test]"
      ],
      "metadata": {
        "id": "o9FnoLVHiXfi"
      },
      "execution_count": 31,
      "outputs": []
    },
    {
      "cell_type": "code",
      "metadata": {
        "id": "2rcBKa8RWFvQ"
      },
      "source": [
        "import torch.nn.functional as F\n",
        "class ClassificationNetwork(nn.Module):\n",
        "    def __init__(self):\n",
        "        super().__init__()\n",
        "        self.conv1 = nn.Conv2d(3, 12, 3, padding = 3)\n",
        "        self.conv1_bn = nn.BatchNorm2d(12)\n",
        "        self.pool = nn.MaxPool2d(2, 2)\n",
        "        self.conv2 = nn.Conv2d(12, 48, 5, padding = 4)\n",
        "        self.conv3 = nn.Conv2d(48, 96, 7)\n",
        "        self.conv3_bn = nn.BatchNorm2d(96)\n",
        "        self.fc1 = nn.Linear(96 * 5 * 5, 120)\n",
        "        self.fc1_bn = nn.BatchNorm1d(120)\n",
        "        self.fc2 = nn.Linear(120, 64)\n",
        "        self.fc3 = nn.Linear(64, 10)\n",
        "\n",
        "    def forward(self, x):\n",
        "        x = self.pool(F.relu(self.conv1_bn(self.conv1(x))))\n",
        "        x = self.pool(F.relu(self.conv2(x)))\n",
        "        x = F.relu(self.conv3_bn(self.conv3(x)))\n",
        "        x = x.view(-1, 96 * 5 * 5)\n",
        "        x = F.relu(self.fc1_bn(self.fc1(x)))\n",
        "        x = F.relu(self.fc2(x))\n",
        "        x = self.fc3(x)\n",
        "        return x\n",
        "\n",
        "net = ClassificationNetwork().cuda()"
      ],
      "execution_count": 130,
      "outputs": []
    },
    {
      "cell_type": "markdown",
      "metadata": {
        "id": "gFmzAceU0nj0"
      },
      "source": [
        "## Training\n",
        "\n",
        "Frist we have the precision testing and the drawing utilities ready."
      ]
    },
    {
      "cell_type": "code",
      "metadata": {
        "colab": {
          "base_uri": "https://localhost:8080/"
        },
        "id": "1UP8Y9H31lPR",
        "outputId": "e101a59a-e2d8-4e44-f586-bdb356aedd2a"
      },
      "source": [
        "def testset_precision(net, testset):\n",
        "    net.eval()\n",
        "    dl = DataLoader(testset, batch_size=128)\n",
        "    total_count = 0\n",
        "    total_correct = 0\n",
        "    for data in dl:\n",
        "        inputs = data[0]\n",
        "        targets = data[1]\n",
        "        outputs = net(inputs)\n",
        "        predicted_labels = outputs.argmax(dim=1)\n",
        "        comparison = predicted_labels == targets\n",
        "        total_count += predicted_labels.size(0)\n",
        "        total_correct += comparison.sum()\n",
        "    net.train()\n",
        "        \n",
        "    return int(total_correct) / int(total_count)\n",
        "\n",
        "print(f'Inital precision: {testset_precision(net, cifar10_test_cuda)}')\n",
        "\n",
        "from IPython import display\n",
        "import matplotlib.pyplot as plt\n",
        "class DrawingBoard:\n",
        "    def __init__(self, names):\n",
        "        self.data = {}\n",
        "        for name in names:\n",
        "            self.data[name] = []\n",
        "    \n",
        "    def update(self, data_dict):\n",
        "        for key in data_dict:\n",
        "            self.data[key].append(data_dict[key])\n",
        "    \n",
        "    def draw(self):\n",
        "        all_keys = list(self.data.keys())\n",
        "        fig, ax = plt.subplots(nrows=1, ncols=len(all_keys))\n",
        "        for idx in range(len(all_keys)):\n",
        "            ax[idx].plot(self.data[all_keys[idx]])\n",
        "            ax[idx].set_title(all_keys[idx])\n",
        "        display.clear_output(wait=True)\n",
        "        plt.show()"
      ],
      "execution_count": 120,
      "outputs": [
        {
          "output_type": "stream",
          "name": "stdout",
          "text": [
            "Inital precision: 0.0973\n"
          ]
        }
      ]
    },
    {
      "cell_type": "markdown",
      "metadata": {
        "id": "F-mJditn1nTO"
      },
      "source": [
        "Then define your criterion, optimizer, and dataloader"
      ]
    },
    {
      "cell_type": "code",
      "metadata": {
        "id": "Z8TGYiPS0vJd"
      },
      "source": [
        "# modify as you need\n",
        "criterion = nn.CrossEntropyLoss()\n",
        "optimizer = optim.SGD(net.parameters(), lr=0.007, momentum=0.9)\n",
        "scheduler1 = optim.lr_scheduler.MultiStepLR(optimizer, milestones=[30], gamma=0.1)\n",
        "dataloader = DataLoader(cifar10_train_cuda, batch_size=1024, shuffle=True)"
      ],
      "execution_count": 131,
      "outputs": []
    },
    {
      "cell_type": "markdown",
      "metadata": {
        "id": "jH3JiFp1000_"
      },
      "source": [
        "Start training:"
      ]
    },
    {
      "cell_type": "code",
      "metadata": {
        "colab": {
          "base_uri": "https://localhost:8080/",
          "height": 299
        },
        "cellView": "code",
        "id": "tsQTSP4tXP8N",
        "outputId": "4e589459-0818-413a-a910-24f185eb8b7d"
      },
      "source": [
        "# modify as you need\n",
        "print('start training')\n",
        "db = DrawingBoard(['training_loss', 'testset_precision'])\n",
        "for epoch in range(50):\n",
        "    for data in dataloader:\n",
        "        inputs = data[0].cuda()\n",
        "        targets = data[1].cuda()\n",
        "        outputs = net(inputs)\n",
        "\n",
        "        optimizer.zero_grad()\n",
        "        loss = criterion(outputs, targets)\n",
        "        loss.backward()\n",
        "        optimizer.step()\n",
        "\n",
        "    scheduler1.step()\n",
        "    db.update({'training_loss':loss.item(), 'testset_precision': testset_precision(net, cifar10_test_cuda)})\n",
        "    db.draw()\n",
        "\n",
        "print('finished')"
      ],
      "execution_count": 125,
      "outputs": [
        {
          "output_type": "display_data",
          "data": {
            "text/plain": [
              "<Figure size 432x288 with 2 Axes>"
            ],
            "image/png": "[encoded data removed]"
          },
          "metadata": {
            "needs_background": "light"
          }
        },
        {
          "output_type": "stream",
          "name": "stdout",
          "text": [
            "finished\n"
          ]
        }
      ]
    },
    {
      "cell_type": "code",
      "source": [
        "print(f'Final precision: {testset_precision(net, cifar10_test_cuda)}')"
      ],
      "metadata": {
        "colab": {
          "base_uri": "https://localhost:8080/"
        },
        "id": "rSzpTlbgi4Hu",
        "outputId": "5a4a1961-fe85-478d-a6a1-a719ccf00be7"
      },
      "execution_count": 126,
      "outputs": [
        {
          "output_type": "stream",
          "name": "stdout",
          "text": [
            "Final precision: 0.712\n"
          ]
        }
      ]
    },
    {
      "cell_type": "markdown",
      "metadata": {
        "id": "hhSdH-_r_8Il"
      },
      "source": [
        "Things to adjust:\n",
        "- Network structure (including parameters like number of channel, kernel size, batch norm, dropout, pooling etc.)\n",
        "- Learning rate/lr_scheduler, momentum\n",
        "- Batch size\n",
        "- Adjust the number of epochs to run so that it'll stop before overfitting\n",
        "- All of the data are currently in the file system, which is extremely time consuming to read them in everytime we iterate over the dataset, what could be done to optmize this?"
      ]
    },
    {
      "cell_type": "markdown",
      "metadata": {
        "id": "Ep3M9NZd2lWS"
      },
      "source": [
        "## Extra Challenge\n",
        "\n",
        "Make your network converges above 0.65 precision (to the point that it is clear your precision will converge over 0.65) in **1 minutes** with **T4 GPU**. (draw precision plot as proof)\n",
        "\n",
        "**Note: Please don't fill this part if you don't think you have accomplished it.**\n",
        "\n",
        "**Tips:** 1. Larger learning rate makes the network improve faster, but less stably, lower learning rate makes the network converge faster, consider using optim.lr_scheduler to combine both ideas to make the network improve fast at the beginning and converge fast at the end.\n",
        "\n",
        "Use the following command to make sure you're using T4 GPU"
      ]
    },
    {
      "cell_type": "code",
      "metadata": {
        "colab": {
          "base_uri": "https://localhost:8080/"
        },
        "id": "tzX8kBxemwns",
        "outputId": "7864c6a3-8974-41ab-c94b-24fc2ab96b81"
      },
      "source": [
        "!nvidia-smi"
      ],
      "execution_count": 108,
      "outputs": [
        {
          "output_type": "stream",
          "name": "stdout",
          "text": [
            "Fri Apr 29 07:10:10 2022       \n",
            "+-----------------------------------------------------------------------------+\n",
            "| NVIDIA-SMI 460.32.03    Driver Version: 460.32.03    CUDA Version: 11.2     |\n",
            "|-------------------------------+----------------------+----------------------+\n",
            "| GPU  Name        Persistence-M| Bus-Id        Disp.A | Volatile Uncorr. ECC |\n",
            "| Fan  Temp  Perf  Pwr:Usage/Cap|         Memory-Usage | GPU-Util  Compute M. |\n",
            "|                               |                      |               MIG M. |\n",
            "|===============================+======================+======================|\n",
            "|   0  Tesla T4            Off  | 00000000:00:04.0 Off |                    0 |\n",
            "| N/A   71C    P0    31W /  70W |   5008MiB / 15109MiB |      0%      Default |\n",
            "|                               |                      |                  N/A |\n",
            "+-------------------------------+----------------------+----------------------+\n",
            "                                                                               \n",
            "+-----------------------------------------------------------------------------+\n",
            "| Processes:                                                                  |\n",
            "|  GPU   GI   CI        PID   Type   Process name                  GPU Memory |\n",
            "|        ID   ID                                                   Usage      |\n",
            "|=============================================================================|\n",
            "+-----------------------------------------------------------------------------+\n"
          ]
        }
      ]
    },
    {
      "cell_type": "markdown",
      "metadata": {
        "id": "_GdwGSx-FHDx"
      },
      "source": [
        "Preparation:"
      ]
    },
    {
      "cell_type": "code",
      "metadata": {
        "id": "XmVwqhVCFIy_"
      },
      "source": [
        "net = ClassificationNetwork().cuda()\n",
        "criterion = nn.CrossEntropyLoss()\n",
        "optimizer = optim.SGD(net.parameters(), lr=0.007, momentum=0.9)\n",
        "scheduler1 = optim.lr_scheduler.MultiStepLR(optimizer, milestones=[6], gamma=0.1)\n",
        "dataloader = DataLoader(cifar10_train_cuda, batch_size=1024, shuffle=True)"
      ],
      "execution_count": 132,
      "outputs": []
    },
    {
      "cell_type": "markdown",
      "metadata": {
        "id": "OlGMULcYA_sA"
      },
      "source": [
        "Your training code:"
      ]
    },
    {
      "cell_type": "code",
      "metadata": {
        "colab": {
          "base_uri": "https://localhost:8080/",
          "height": 316
        },
        "id": "nQLfxVBBA_Qz",
        "outputId": "51d87b42-1b8d-4a66-c835-c5d4d65664d4"
      },
      "source": [
        "import time\n",
        "import signal\n",
        "class TimeLimitation:\n",
        "    def __init__(self, limit):\n",
        "        self.limit = limit\n",
        "\n",
        "    def __enter__(self):\n",
        "        def handler(signum, frame):\n",
        "            raise NotImplementedError('Time\\'s up')\n",
        "        signal.signal(signal.SIGALRM, handler)\n",
        "        signal.alarm(self.limit)\n",
        "\n",
        "    def __exit__(self, exc_type, exc_val, exc_tb):\n",
        "        signal.alarm(0)\n",
        "\n",
        "\n",
        "with TimeLimitation(60): # don't forget the indentation\n",
        "    print('start training')\n",
        "    db = DrawingBoard(['training_loss', 'testset_precision'])\n",
        "    for epoch in range(12):\n",
        "        for data in dataloader:\n",
        "            inputs = data[0].cuda()\n",
        "            targets = data[1].cuda()\n",
        "            outputs = net(inputs)\n",
        "\n",
        "            optimizer.zero_grad()\n",
        "            loss = criterion(outputs, targets)\n",
        "            loss.backward()\n",
        "            optimizer.step()\n",
        "\n",
        "        scheduler1.step()\n",
        "        db.update({'training_loss':loss.item(), 'testset_precision': testset_precision(net, cifar10_test_cuda)})\n",
        "        db.draw()\n",
        "\n",
        "    print('finished')\n",
        "    print(f'Final precision: {testset_precision(net, cifar10_test_cuda)}')\n",
        "\n",
        "\n"
      ],
      "execution_count": 133,
      "outputs": [
        {
          "output_type": "display_data",
          "data": {
            "text/plain": [
              "<Figure size 432x288 with 2 Axes>"
            ],
            "image/png": "[encoded data removed]"
          },
          "metadata": {
            "needs_background": "light"
          }
        },
        {
          "output_type": "stream",
          "name": "stdout",
          "text": [
            "finished\n",
            "Final precision: 0.7001\n"
          ]
        }
      ]
    },
    {
      "cell_type": "markdown",
      "metadata": {
        "id": "vJ-rPNj43Kld"
      },
      "source": [
        "# Marking Scheme\n",
        "\n",
        "*   Code implementation: 100%\n",
        "\n",
        "\n",
        "> * Successfully run through the whole project: 40%\n",
        "> * Precision above 0.60: 30%\n",
        "> * Precision above 0.65: 20%\n",
        "> * Precision above 0.70: 10%\n",
        "> * Extra challenge accomplished: 10%"
      ]
    }
  ]
}