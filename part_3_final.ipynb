{
  "nbformat": 4,
  "nbformat_minor": 0,
  "metadata": {
    "colab": {
      "name": "project_3_final.ipynb",
      "provenance": [],
      "collapsed_sections": []
    },
    "kernelspec": {
      "name": "python3",
      "display_name": "Python 3"
    },
    "language_info": {
      "name": "python"
    },
    "accelerator": "GPU",
    "widgets": {
      "application/vnd.jupyter.widget-state+json": {
        "859954a601874d20b6e26f96f889cbd6": {
          "model_module": "@jupyter-widgets/controls",
          "model_name": "HBoxModel",
          "model_module_version": "1.5.0",
          "state": {
            "_dom_classes": [],
            "_model_module": "@jupyter-widgets/controls",
            "_model_module_version": "1.5.0",
            "_model_name": "HBoxModel",
            "_view_count": null,
            "_view_module": "@jupyter-widgets/controls",
            "_view_module_version": "1.5.0",
            "_view_name": "HBoxView",
            "box_style": "",
            "children": [
              "IPY_MODEL_b888bab2616a42449713876404962787",
              "IPY_MODEL_9ec756e8b2674853b19031a4289fc439",
              "IPY_MODEL_2d72b56989fa4503aec33923503dcec2"
            ],
            "layout": "IPY_MODEL_1b56c94b78ac4f67afec64abe0dea61e"
          }
        },
        "b888bab2616a42449713876404962787": {
          "model_module": "@jupyter-widgets/controls",
          "model_name": "HTMLModel",
          "model_module_version": "1.5.0",
          "state": {
            "_dom_classes": [],
            "_model_module": "@jupyter-widgets/controls",
            "_model_module_version": "1.5.0",
            "_model_name": "HTMLModel",
            "_view_count": null,
            "_view_module": "@jupyter-widgets/controls",
            "_view_module_version": "1.5.0",
            "_view_name": "HTMLView",
            "description": "",
            "description_tooltip": null,
            "layout": "IPY_MODEL_cd1e4734c8d74fc4b8d49d0711e3feb4",
            "placeholder": "​",
            "style": "IPY_MODEL_ced01683b2594efa9399f6a8c141f599",
            "value": ""
          }
        },
        "9ec756e8b2674853b19031a4289fc439": {
          "model_module": "@jupyter-widgets/controls",
          "model_name": "FloatProgressModel",
          "model_module_version": "1.5.0",
          "state": {
            "_dom_classes": [],
            "_model_module": "@jupyter-widgets/controls",
            "_model_module_version": "1.5.0",
            "_model_name": "FloatProgressModel",
            "_view_count": null,
            "_view_module": "@jupyter-widgets/controls",
            "_view_module_version": "1.5.0",
            "_view_name": "ProgressView",
            "bar_style": "success",
            "description": "",
            "description_tooltip": null,
            "layout": "IPY_MODEL_28bb708b510c4e42a0a3ce9c06bb5616",
            "max": 170498071,
            "min": 0,
            "orientation": "horizontal",
            "style": "IPY_MODEL_a3a34a584bb34556a776bab949d12513",
            "value": 170498071
          }
        },
        "2d72b56989fa4503aec33923503dcec2": {
          "model_module": "@jupyter-widgets/controls",
          "model_name": "HTMLModel",
          "model_module_version": "1.5.0",
          "state": {
            "_dom_classes": [],
            "_model_module": "@jupyter-widgets/controls",
            "_model_module_version": "1.5.0",
            "_model_name": "HTMLModel",
            "_view_count": null,
            "_view_module": "@jupyter-widgets/controls",
            "_view_module_version": "1.5.0",
            "_view_name": "HTMLView",
            "description": "",
            "description_tooltip": null,
            "layout": "IPY_MODEL_87cbd8989ce647c0b0f4a46dd391a2c8",
            "placeholder": "​",
            "style": "IPY_MODEL_fc4aea8c25a9433d9256b5fb837b2d6d",
            "value": " 170499072/? [00:03&lt;00:00, 54480020.18it/s]"
          }
        },
        "1b56c94b78ac4f67afec64abe0dea61e": {
          "model_module": "@jupyter-widgets/base",
          "model_name": "LayoutModel",
          "model_module_version": "1.2.0",
          "state": {
            "_model_module": "@jupyter-widgets/base",
            "_model_module_version": "1.2.0",
            "_model_name": "LayoutModel",
            "_view_count": null,
            "_view_module": "@jupyter-widgets/base",
            "_view_module_version": "1.2.0",
            "_view_name": "LayoutView",
            "align_content": null,
            "align_items": null,
            "align_self": null,
            "border": null,
            "bottom": null,
            "display": null,
            "flex": null,
            "flex_flow": null,
            "grid_area": null,
            "grid_auto_columns": null,
            "grid_auto_flow": null,
            "grid_auto_rows": null,
            "grid_column": null,
            "grid_gap": null,
            "grid_row": null,
            "grid_template_areas": null,
            "grid_template_columns": null,
            "grid_template_rows": null,
            "height": null,
            "justify_content": null,
            "justify_items": null,
            "left": null,
            "margin": null,
            "max_height": null,
            "max_width": null,
            "min_height": null,
            "min_width": null,
            "object_fit": null,
            "object_position": null,
            "order": null,
            "overflow": null,
            "overflow_x": null,
            "overflow_y": null,
            "padding": null,
            "right": null,
            "top": null,
            "visibility": null,
            "width": null
          }
        },
        "cd1e4734c8d74fc4b8d49d0711e3feb4": {
          "model_module": "@jupyter-widgets/base",
          "model_name": "LayoutModel",
          "model_module_version": "1.2.0",
          "state": {
            "_model_module": "@jupyter-widgets/base",
            "_model_module_version": "1.2.0",
            "_model_name": "LayoutModel",
            "_view_count": null,
            "_view_module": "@jupyter-widgets/base",
            "_view_module_version": "1.2.0",
            "_view_name": "LayoutView",
            "align_content": null,
            "align_items": null,
            "align_self": null,
            "border": null,
            "bottom": null,
            "display": null,
            "flex": null,
            "flex_flow": null,
            "grid_area": null,
            "grid_auto_columns": null,
            "grid_auto_flow": null,
            "grid_auto_rows": null,
            "grid_column": null,
            "grid_gap": null,
            "grid_row": null,
            "grid_template_areas": null,
            "grid_template_columns": null,
            "grid_template_rows": null,
            "height": null,
            "justify_content": null,
            "justify_items": null,
            "left": null,
            "margin": null,
            "max_height": null,
            "max_width": null,
            "min_height": null,
            "min_width": null,
            "object_fit": null,
            "object_position": null,
            "order": null,
            "overflow": null,
            "overflow_x": null,
            "overflow_y": null,
            "padding": null,
            "right": null,
            "top": null,
            "visibility": null,
            "width": null
          }
        },
        "ced01683b2594efa9399f6a8c141f599": {
          "model_module": "@jupyter-widgets/controls",
          "model_name": "DescriptionStyleModel",
          "model_module_version": "1.5.0",
          "state": {
            "_model_module": "@jupyter-widgets/controls",
            "_model_module_version": "1.5.0",
            "_model_name": "DescriptionStyleModel",
            "_view_count": null,
            "_view_module": "@jupyter-widgets/base",
            "_view_module_version": "1.2.0",
            "_view_name": "StyleView",
            "description_width": ""
          }
        },
        "28bb708b510c4e42a0a3ce9c06bb5616": {
          "model_module": "@jupyter-widgets/base",
          "model_name": "LayoutModel",
          "model_module_version": "1.2.0",
          "state": {
            "_model_module": "@jupyter-widgets/base",
            "_model_module_version": "1.2.0",
            "_model_name": "LayoutModel",
            "_view_count": null,
            "_view_module": "@jupyter-widgets/base",
            "_view_module_version": "1.2.0",
            "_view_name": "LayoutView",
            "align_content": null,
            "align_items": null,
            "align_self": null,
            "border": null,
            "bottom": null,
            "display": null,
            "flex": null,
            "flex_flow": null,
            "grid_area": null,
            "grid_auto_columns": null,
            "grid_auto_flow": null,
            "grid_auto_rows": null,
            "grid_column": null,
            "grid_gap": null,
            "grid_row": null,
            "grid_template_areas": null,
            "grid_template_columns": null,
            "grid_template_rows": null,
            "height": null,
            "justify_content": null,
            "justify_items": null,
            "left": null,
            "margin": null,
            "max_height": null,
            "max_width": null,
            "min_height": null,
            "min_width": null,
            "object_fit": null,
            "object_position": null,
            "order": null,
            "overflow": null,
            "overflow_x": null,
            "overflow_y": null,
            "padding": null,
            "right": null,
            "top": null,
            "visibility": null,
            "width": null
          }
        },
        "a3a34a584bb34556a776bab949d12513": {
          "model_module": "@jupyter-widgets/controls",
          "model_name": "ProgressStyleModel",
          "model_module_version": "1.5.0",
          "state": {
            "_model_module": "@jupyter-widgets/controls",
            "_model_module_version": "1.5.0",
            "_model_name": "ProgressStyleModel",
            "_view_count": null,
            "_view_module": "@jupyter-widgets/base",
            "_view_module_version": "1.2.0",
            "_view_name": "StyleView",
            "bar_color": null,
            "description_width": ""
          }
        },
        "87cbd8989ce647c0b0f4a46dd391a2c8": {
          "model_module": "@jupyter-widgets/base",
          "model_name": "LayoutModel",
          "model_module_version": "1.2.0",
          "state": {
            "_model_module": "@jupyter-widgets/base",
            "_model_module_version": "1.2.0",
            "_model_name": "LayoutModel",
            "_view_count": null,
            "_view_module": "@jupyter-widgets/base",
            "_view_module_version": "1.2.0",
            "_view_name": "LayoutView",
            "align_content": null,
            "align_items": null,
            "align_self": null,
            "border": null,
            "bottom": null,
            "display": null,
            "flex": null,
            "flex_flow": null,
            "grid_area": null,
            "grid_auto_columns": null,
            "grid_auto_flow": null,
            "grid_auto_rows": null,
            "grid_column": null,
            "grid_gap": null,
            "grid_row": null,
            "grid_template_areas": null,
            "grid_template_columns": null,
            "grid_template_rows": null,
            "height": null,
            "justify_content": null,
            "justify_items": null,
            "left": null,
            "margin": null,
            "max_height": null,
            "max_width": null,
            "min_height": null,
            "min_width": null,
            "object_fit": null,
            "object_position": null,
            "order": null,
            "overflow": null,
            "overflow_x": null,
            "overflow_y": null,
            "padding": null,
            "right": null,
            "top": null,
            "visibility": null,
            "width": null
          }
        },
        "fc4aea8c25a9433d9256b5fb837b2d6d": {
          "model_module": "@jupyter-widgets/controls",
          "model_name": "DescriptionStyleModel",
          "model_module_version": "1.5.0",
          "state": {
            "_model_module": "@jupyter-widgets/controls",
            "_model_module_version": "1.5.0",
            "_model_name": "DescriptionStyleModel",
            "_view_count": null,
            "_view_module": "@jupyter-widgets/base",
            "_view_module_version": "1.2.0",
            "_view_name": "StyleView",
            "description_width": ""
          }
        }
      }
    }
  },
  "cells": [
    {
      "cell_type": "markdown",
      "metadata": {
        "id": "aWQZNpJgLAZC"
      },
      "source": [
        "# Project 3. Limited time training\n",
        "\n",
        " In project 3, you're going to improve your network under the limitation of time, specifically 10 minutes. You can borrow any structure that you consider viable, but pretrained models are **NOT allowed**.\n",
        "\n",
        "**Hint**: Most of the popular networks can't converge in 10 minutes, so if you decide to borrow any, you'd have to trim the network a little to fit into the time frame."
      ]
    },
    {
      "cell_type": "markdown",
      "metadata": {
        "id": "2vBi1AzTSoES"
      },
      "source": [
        "## 1. Preparation\n",
        "\n",
        "This project is time limited, we need to make sure that your hardwares are exactly the same, try the following code, if you see 'GPU correct, proceed.', you can continue the project, otherwise, click the dropdown at the upper right corner besides the status bar (RAM, Disk), and go to 'Manage sessions', and terminate the current session, then reconnect, and try the code again, repeat until you see the right message."
      ]
    },
    {
      "cell_type": "code",
      "metadata": {
        "colab": {
          "base_uri": "https://localhost:8080/"
        },
        "id": "I1uoQawsBsdD",
        "outputId": "c9fea1f5-73f4-4268-a7ce-ad90d77d31fc"
      },
      "source": [
        "!if [ $(nvidia-smi | grep Tesla | tr -s \" \" | cut -d' ' -f4) == 'T4' ]; then echo \"GPU correct, proceed.\"; else echo \"GPU incorrect, please terminate this session and reconnect again.\"; fi"
      ],
      "execution_count": 2,
      "outputs": [
        {
          "output_type": "stream",
          "name": "stdout",
          "text": [
            "GPU correct, proceed.\n"
          ]
        }
      ]
    },
    {
      "cell_type": "markdown",
      "metadata": {
        "id": "NFg9DbPZU5s8"
      },
      "source": [
        "## 2. Before training\n",
        "\n",
        "For dataset, we continue to use CIFAR10, in this part, you can configure all of your settings, including data augmentation, model structure, optimizer etc., but don't put any major calculation part in."
      ]
    },
    {
      "cell_type": "markdown",
      "metadata": {
        "id": "sk--hkA1agMz"
      },
      "source": [
        "### 2.1 Dataset"
      ]
    },
    {
      "cell_type": "code",
      "metadata": {
        "id": "GcyQM7qiLagn",
        "colab": {
          "base_uri": "https://localhost:8080/",
          "height": 104,
          "referenced_widgets": [
            "859954a601874d20b6e26f96f889cbd6",
            "b888bab2616a42449713876404962787",
            "9ec756e8b2674853b19031a4289fc439",
            "2d72b56989fa4503aec33923503dcec2",
            "1b56c94b78ac4f67afec64abe0dea61e",
            "cd1e4734c8d74fc4b8d49d0711e3feb4",
            "ced01683b2594efa9399f6a8c141f599",
            "28bb708b510c4e42a0a3ce9c06bb5616",
            "a3a34a584bb34556a776bab949d12513",
            "87cbd8989ce647c0b0f4a46dd391a2c8",
            "fc4aea8c25a9433d9256b5fb837b2d6d"
          ]
        },
        "outputId": "43e3aea0-b4bb-45d6-d01d-df4dc6d7888c"
      },
      "source": [
        "import torch\n",
        "import torch.nn as nn\n",
        "import torch.optim as optim\n",
        "import torchvision\n",
        "from torch.utils.data import DataLoader\n",
        "import numpy as np\n",
        "from torchvision import transforms\n",
        "cifar10_mean = (0.49139968,0.48215827,0.44653124)\n",
        "cifar10_std = (0.24703233,0.24348505, 0.26158768)\n",
        "new_transform = transforms.Compose([transforms.RandomCrop(32,padding=3),transforms.RandomHorizontalFlip(),transforms.ToTensor(),transforms.Normalize(cifar10_mean,cifar10_std)])\n",
        "new_test = transforms.Compose([transforms.ToTensor(),transforms.Normalize(cifar10_mean,cifar10_std)])\n",
        "cifar10_train = torchvision.datasets.CIFAR10(\"CIFAR10\", train=True, transform=new_transform,\n",
        "                                         target_transform=None, download=True)\n",
        "cifar10_test = torchvision.datasets.CIFAR10(\"CIFAR10\", train=False, transform=new_test,\n",
        "                                         target_transform=None, download=True)"
      ],
      "execution_count": 3,
      "outputs": [
        {
          "output_type": "stream",
          "name": "stdout",
          "text": [
            "Downloading https://www.cs.toronto.edu/~kriz/cifar-10-python.tar.gz to CIFAR10/cifar-10-python.tar.gz\n"
          ]
        },
        {
          "output_type": "display_data",
          "data": {
            "text/plain": [
              "  0%|          | 0/170498071 [00:00<?, ?it/s]"
            ],
            "application/vnd.jupyter.widget-view+json": {
              "version_major": 2,
              "version_minor": 0,
              "model_id": "859954a601874d20b6e26f96f889cbd6"
            }
          },
          "metadata": {}
        },
        {
          "output_type": "stream",
          "name": "stdout",
          "text": [
            "Extracting CIFAR10/cifar-10-python.tar.gz to CIFAR10\n",
            "Files already downloaded and verified\n"
          ]
        }
      ]
    },
    {
      "cell_type": "markdown",
      "metadata": {
        "id": "8vcCJYrGax4N"
      },
      "source": [
        "### 2.2 Model\n",
        "\n",
        "**Hint**: Even though pretrained models are not allowed in your final version, you can use pretrained models to determine how well the structure CAN perform and use this as part of your analysis as to determining network structure."
      ]
    },
    {
      "cell_type": "markdown",
      "metadata": {
        "id": "5pUWX3Ip3p9e"
      },
      "source": [
        "**Model definition**"
      ]
    },
    {
      "cell_type": "code",
      "metadata": {
        "id": "brj3qQkNLnlO"
      },
      "source": [
        "import torchvision.models\n",
        "import torch.nn.functional as F\n",
        "class MyNet(nn.Module):\n",
        "    def __init__(self):\n",
        "        super().__init__()\n",
        "        self.conv1 = nn.Conv2d(3, 12, 3, padding = 3)\n",
        "        self.conv1_bn = nn.BatchNorm2d(12)\n",
        "        self.pool = nn.MaxPool2d(2, 2)\n",
        "        self.conv2 = nn.Conv2d(12, 48, 5, padding = 4)\n",
        "        self.conv3 = nn.Conv2d(48, 96, 7, padding = 6)\n",
        "        self.conv3_bn = nn.BatchNorm2d(96)\n",
        "        self.fc1 = nn.Linear(96 * 17 * 17, 120)\n",
        "        self.fc1_bn = nn.BatchNorm1d(120)\n",
        "        self.fc2 = nn.Linear(120, 64)\n",
        "        self.fc3 = nn.Linear(64, 10)\n",
        "\n",
        "    def forward(self, x):\n",
        "      x = self.pool(F.relu(self.conv1_bn(self.conv1(x))))\n",
        "      x = self.pool(F.relu(self.conv2(x)))\n",
        "      x = F.relu(self.conv3_bn(self.conv3(x)))\n",
        "      x = x.view(-1, 96 * 17 * 17)\n",
        "      x = F.relu(self.fc1_bn(self.fc1(x)))\n",
        "      x = F.relu(self.fc2(x))\n",
        "      x = self.fc3(x)\n",
        "      return x\n",
        "\n",
        "net = MyNet().cuda()"
      ],
      "execution_count": 4,
      "outputs": []
    },
    {
      "cell_type": "markdown",
      "metadata": {
        "id": "HHUS2sSd3toa"
      },
      "source": [
        "**Analysis tools**"
      ]
    },
    {
      "cell_type": "code",
      "metadata": {
        "colab": {
          "base_uri": "https://localhost:8080/"
        },
        "id": "Sb_Ume_bHEr0",
        "outputId": "9a0acceb-f792-407b-9d24-4cc1ebb3ec6a"
      },
      "source": [
        "def testset_precision(net, testset):\n",
        "    net.eval()\n",
        "    dl = DataLoader(testset, batch_size=512)\n",
        "    total_count = 0\n",
        "    total_correct = 0\n",
        "    for data in dl:\n",
        "        inputs = data[0].cuda()\n",
        "        targets = data[1].cuda()\n",
        "        outputs = net(inputs)\n",
        "        predicted_labels = outputs.argmax(dim=1)\n",
        "        comparison = predicted_labels == targets\n",
        "        total_count += predicted_labels.size(0)\n",
        "        total_correct += comparison.sum()\n",
        "    net.train()\n",
        "        \n",
        "    return int(total_correct) / int(total_count)\n",
        "\n",
        "print(f'Inital precision: {testset_precision(net, cifar10_test)}')\n",
        "\n",
        "from IPython import display\n",
        "import matplotlib.pyplot as plt\n",
        "import time\n",
        "\n",
        "class DrawingBoard:\n",
        "    def __init__(self, names, time_slot=60):\n",
        "        self.start_time = time.time()\n",
        "        self.time_slot = time_slot\n",
        "        self.annotations = []\n",
        "        self.data = {}\n",
        "        for name in names:\n",
        "            self.data[name] = []\n",
        "    \n",
        "    def update(self, data_dict):\n",
        "        for key in data_dict:\n",
        "            self.data[key].append(data_dict[key])\n",
        "        current_time = time.time() - self.start_time\n",
        "        idx = len(self.data[key]) -1\n",
        "        if len(self.annotations) == 0:\n",
        "            if current_time > self.time_slot:\n",
        "                self.annotations.append((idx, current_time))\n",
        "        elif current_time - (self.annotations[-1][1]//self.time_slot)*self.time_slot > self.time_slot:\n",
        "            self.annotations.append((idx, current_time))\n",
        "    \n",
        "    def draw(self):\n",
        "        all_keys = list(self.data.keys())\n",
        "        fig, ax = plt.subplots(nrows=1, ncols=len(all_keys))\n",
        "        fig.set_figwidth(20)\n",
        "        for idx in range(len(all_keys)):\n",
        "            ax[idx].plot(self.data[all_keys[idx]])\n",
        "            ax[idx].set_title(all_keys[idx])\n",
        "            for an in self.annotations:\n",
        "                ax[idx].annotate(f'{int(an[1])}s', xy=(an[0], self.data[all_keys[idx]][an[0]]),\n",
        "                    xytext=(0, -40), textcoords=\"offset points\",\n",
        "                    va=\"center\", ha=\"left\",\n",
        "                    bbox=dict(boxstyle=\"round\", fc=\"w\"),\n",
        "                    arrowprops=dict(arrowstyle=\"->\"))\n",
        "        display.clear_output(wait=True)\n",
        "        plt.show()"
      ],
      "execution_count": 5,
      "outputs": [
        {
          "output_type": "stream",
          "name": "stdout",
          "text": [
            "Inital precision: 0.1\n"
          ]
        }
      ]
    },
    {
      "cell_type": "code",
      "metadata": {
        "id": "BgkJbvpOOa6m"
      },
      "source": [
        "# modify as you need\n",
        "criterion = nn.CrossEntropyLoss()\n",
        "optimizer = optim.Adam(net.parameters(), lr=0.001)\n",
        "scheduler1 = optim.lr_scheduler.MultiStepLR(optimizer, milestones=[13], gamma=0.1)\n",
        "dataloader = DataLoader(cifar10_train, batch_size=256, shuffle=True)"
      ],
      "execution_count": 6,
      "outputs": []
    },
    {
      "cell_type": "markdown",
      "metadata": {
        "id": "ZwkS_qPD3y6E"
      },
      "source": [
        "## 3. Start Training\n",
        "\n",
        "This is the training part, take advantage of everything you know. In addition to the tips last time, you can also consider data augmentation, short cut structure in ResNet etc.\n",
        "\n",
        "Basically at this point, nothing is limited except time and pretrained models."
      ]
    },
    {
      "cell_type": "code",
      "metadata": {
        "id": "ox4DiCIyP835",
        "colab": {
          "base_uri": "https://localhost:8080/",
          "height": 308
        },
        "outputId": "27154495-6a01-4065-cd9d-b0b67e25877a"
      },
      "source": [
        "# modify as you need\n",
        "import time\n",
        "import signal\n",
        "class TimeLimitation:\n",
        "    def __init__(self, limit):\n",
        "        self.limit = limit\n",
        "\n",
        "    def __enter__(self):\n",
        "        def handler(signum, frame):\n",
        "            raise NotImplementedError('Time\\'s up')\n",
        "        signal.signal(signal.SIGALRM, handler)\n",
        "        signal.alarm(self.limit)\n",
        "\n",
        "    def __exit__(self, exc_type, exc_val, exc_tb):\n",
        "        signal.alarm(0)\n",
        "\n",
        "\n",
        "with TimeLimitation(600): # don't forget the indentation\n",
        "    print('start training')\n",
        "    db = DrawingBoard(['training_loss', 'testset_precision'], time_slot=60)\n",
        "    for epoch in range(15):\n",
        "        for iter, data in enumerate(dataloader):\n",
        "            inputs = data[0].cuda()\n",
        "            targets = data[1].cuda()\n",
        "            outputs = net(inputs)\n",
        "\n",
        "            optimizer.zero_grad()\n",
        "            loss = criterion(outputs, targets)\n",
        "            loss.backward()\n",
        "            optimizer.step()\n",
        "\n",
        "            if iter % 20 == 0:\n",
        "                db.update({'training_loss':loss.item(), 'testset_precision': testset_precision(net, cifar10_test)})\n",
        "                db.draw()\n",
        "        scheduler1.step()\n",
        "    print('finished')\n",
        "    "
      ],
      "execution_count": 7,
      "outputs": [
        {
          "output_type": "display_data",
          "data": {
            "text/plain": [
              "<Figure size 1440x288 with 2 Axes>"
            ],
            "image/png": "[encoded data removed]"
          },
          "metadata": {
            "needs_background": "light"
          }
        },
        {
          "output_type": "stream",
          "name": "stdout",
          "text": [
            "finished\n"
          ]
        }
      ]
    },
    {
      "cell_type": "code",
      "source": [
        "print('testset_precision: '+ str(testset_precision(net, cifar10_test)))\n",
        "print('training_loss: '+str(loss.item()))"
      ],
      "metadata": {
        "colab": {
          "base_uri": "https://localhost:8080/"
        },
        "id": "a-MDNCls_Zrl",
        "outputId": "8a9a23f4-fb27-4142-e808-fc7b27005c5e"
      },
      "execution_count": 8,
      "outputs": [
        {
          "output_type": "stream",
          "name": "stdout",
          "text": [
            "testset_precision: 0.8063\n",
            "training_loss: 0.697440505027771\n"
          ]
        }
      ]
    },
    {
      "cell_type": "code",
      "source": [
        ""
      ],
      "metadata": {
        "id": "WrissTtb_aA2"
      },
      "execution_count": null,
      "outputs": []
    },
    {
      "cell_type": "markdown",
      "source": [
        ""
      ],
      "metadata": {
        "id": "hmqsYKC_k5SH"
      }
    },
    {
      "cell_type": "markdown",
      "source": [
        ""
      ],
      "metadata": {
        "id": "LfXcIiaJk5mz"
      }
    },
    {
      "cell_type": "code",
      "source": [
        ""
      ],
      "metadata": {
        "id": "jC2wZFXFk7YQ"
      },
      "execution_count": null,
      "outputs": []
    },
    {
      "cell_type": "markdown",
      "metadata": {
        "id": "WST0cHoKPZ02"
      },
      "source": [
        "# Marking Scheme\n",
        "\n",
        "*   Code implementation: 30%\n",
        "\n",
        "\n",
        "> * Successfully run through the whole project: 10%\n",
        "> * Code implementation quality: 20% (including performance)\n",
        "\n",
        "*   PDF report: 50%\n",
        "\n",
        "> * Overview, introduction to the network structure etc.: 10%\n",
        "> * Analysis and improvements: 40%\n",
        "\n",
        "*   Presentation: 20%\n",
        "\n",
        "> * Overall demonstration: 10%\n",
        "> * Unfolding analysis: 10%"
      ]
    }
  ]
}